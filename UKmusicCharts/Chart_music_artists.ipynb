{
 "cells": [
  {
   "cell_type": "markdown",
   "metadata": {},
   "source": [
    "# UK Music Charts Artists"
   ]
  },
  {
   "cell_type": "markdown",
   "metadata": {},
   "source": [
    "## Initialisation"
   ]
  },
  {
   "cell_type": "code",
   "execution_count": 158,
   "metadata": {},
   "outputs": [],
   "source": [
    "library(tidyverse)\n",
    "\n",
    "# Use read_tsv because some lines have commas in them which aren't escaped, and so fields are separated with tabs\n",
    "artists <- read_tsv('artists_dedupe.txt', col_names = c(\"name\"), col_types = \"__c\", , trim_ws = TRUE)"
   ]
  },
  {
   "cell_type": "markdown",
   "metadata": {},
   "source": [
    "## Calculate statistics"
   ]
  },
  {
   "cell_type": "markdown",
   "metadata": {},
   "source": [
    "### Artists whose name is of the form \"X and the Y\""
   ]
  },
  {
   "cell_type": "code",
   "execution_count": 159,
   "metadata": {},
   "outputs": [],
   "source": [
    "# We need the space before and after to make sure we don't match e.g. SAND.  Also, we need at least one bit of word\n",
    "# before and after - \" AND THE Y\" and \"X AND THE \" don't count.  It has to be \"X AND THE Y\".\n",
    "xAndTheYpattern <- \"[\\\\S]+ (AND|&) THE [\\\\S]+\"\n",
    "\n",
    "xAndTheYartists <- str_subset(artists$name, xAndTheYpattern)"
   ]
  },
  {
   "cell_type": "markdown",
   "metadata": {},
   "source": [
    "### Football and rugby teams"
   ]
  },
  {
   "cell_type": "code",
   "execution_count": 160,
   "metadata": {},
   "outputs": [],
   "source": [
    "# This won't catch interesting names that don't include FC etc, such as Hamilton Academicals or Sheffield Wednesday\n",
    "footballPattern <- \" (F\\\\.C\\\\.|FC|AFC|A\\\\.F\\\\.C\\\\.|RFC|R\\\\.F\\\\.C\\\\.|FA|F\\\\.A\\\\.|FOOTBALL|RUGBY|RANGERS|TEAM|SQUAD|UNITED) |ENGLANDNEWORDER\"\n",
    "\n",
    "# Need this because the main pattern also brings artists that aren't football or rugby teams as far as I'm aware\n",
    "exceptionsPattern <- \"APARTHEID|BELLY|DREEM|TERROR\"\n",
    "\n",
    "footballArtistsWithExtras <- str_subset(artists$name, footballPattern)\n",
    "\n",
    "# the version of tidyverse / stringr I'm using is too old to have negate as an option to str_subset, so fall back\n",
    "# on a harder-to-use function that does the job\n",
    "footballArtists <- stringi::stri_subset_regex(footballArtistsWithExtras, exceptionsPattern, negate = TRUE)"
   ]
  },
  {
   "cell_type": "markdown",
   "metadata": {},
   "source": [
    "### Artists with single word names"
   ]
  },
  {
   "cell_type": "code",
   "execution_count": 161,
   "metadata": {},
   "outputs": [],
   "source": [
    "# This matches x-y, e.g. DEEE-LITE, which doesn't seem properly to be one word to me\n",
    "# oneWordPattern <- \"^\\\\S+$\"\n",
    "\n",
    "# Allow random punctuation at the end of the word, to match e.g. Delirious?, and apostrophes anywhere.\n",
    "oneWordPattern <- \"^[0-9A-Z']+\\\\S$\"\n",
    "\n",
    "oneWordArtists <- str_subset(artists$name, oneWordPattern)"
   ]
  },
  {
   "cell_type": "markdown",
   "metadata": {},
   "source": [
    "### Artists with a number in their name, including as a word"
   ]
  },
  {
   "cell_type": "code",
   "execution_count": 162,
   "metadata": {},
   "outputs": [],
   "source": [
    "# We need Roman numerals for people like Soul II Soul.\n",
    "# I left out I and V and numbeers beyond 10 as Roman numerals because they're too likely to be meant as letters and not as numbers\n",
    "# If the number is a Roman numeral or a word, make sure there is a space, hyphen or start or end of line at the beginning and\n",
    "# end of the match, to stop e.g. 'ONE' matching 'STONE'.\n",
    "containsNumberPattern <- \"[0-9]|(([ \\\\-^])(ONE|TWO|THREE|FOUR|FIVE|SIX|SEVEN|EIGHT|NINE|TEN|ELEVEN|TWELVE|(THIR|FOUR|FIF|SIX|SEVEN|EIGH|NINE)TEEN|(TWEN|THIR|FOR|FIF|SIX|SEVEN|EIGH|NINE)TY|HUNDRED|THOUSAND|(M|B|TR)ILLION|II|III||IV|VI|VII|VIII|IX|X)([ \\\\-$]]))\"\n",
    "\n",
    "numberArtists <- str_subset(artists$name, containsNumberPattern)"
   ]
  },
  {
   "cell_type": "markdown",
   "metadata": {},
   "source": [
    "### Artists who do and don't collaborate with other artists"
   ]
  },
  {
   "cell_type": "code",
   "execution_count": 163,
   "metadata": {},
   "outputs": [],
   "source": [
    "# Unfortunately the main pattern will split AC/DC and numbers with thousands separators.\n",
    "# So treat those as an exception separately rather than making the main regex even more complicated.\n",
    "# / appears to be used as a separator for artists, without spaces either side (unlike the other separators).\n",
    "# This relies on the name containing some clue that its words are separate things joined together.\n",
    "# E.g. \"Crosby Stills Nash and Young\" doesn't have commas, so looks like \"Crosby Stills Nash\" + \"Young\".\n",
    "\n",
    "manyArtistsPattern <-  \"[/,]|( (WITH|FT\\\\.?|FEAT\\\\.?|FEATURING|AND|&|VERSUS|VS\\\\.?) )\"\n",
    "exceptionsPattern <- \"^AC/DC$|\\\\d,\\\\d{3}\"\n",
    "\n",
    "# this will filter out too many, so find the ones filtered out in error then add them together for the proper answer\n",
    "singleArtistsWithoutExceptions <- stringi::stri_subset_regex(artists$name, manyArtistsPattern, negate = TRUE)\n",
    "singleArtistsExceptions <- stringi::stri_subset_regex(artists$name, exceptionsPattern)\n",
    "singleArtists <- c(singleArtistsExceptions, singleArtistsWithoutExceptions)\n",
    "\n",
    "# this won't filter out enough, so also filter out the exceptions afterwards\n",
    "jointArtistsBeforeExceptionsProcessed <-stringi::stri_subset_regex(artists$name, manyArtistsPattern)\n",
    "jointArtists <- stringi::stri_subset_regex(jointArtistsBeforeExceptionsProcessed, exceptionsPattern, negate = TRUE)\n",
    "\n",
    "# split the artists who are collaborations of 2+ artists into their components, then pool them across all entries into\n",
    "# one de-duplicated list of artists who collaborate with at least one other artist\n",
    "jointArtistsSplit <- strsplit(jointArtists, manyArtistsPattern)\n",
    "artistsWhoCollaborate <- sort(unique(trimws(unlist(jointArtistsSplit))))\n",
    "\n",
    "artistsWhoSometimesCollaborateAndSometimesDont <- intersect(singleArtists, artistsWhoCollaborate)\n",
    "artistsWhoOnlyCollaborate <- setdiff(artistsWhoCollaborate, singleArtists)\n",
    "artistsWhoNeverCollaborate <- setdiff(singleArtists, artistsWhoCollaborate)"
   ]
  },
  {
   "cell_type": "markdown",
   "metadata": {},
   "source": [
    "## Display results"
   ]
  },
  {
   "cell_type": "code",
   "execution_count": 164,
   "metadata": {},
   "outputs": [
    {
     "data": {},
     "metadata": {},
     "output_type": "display_data"
    },
    {
     "data": {
      "image/png": "[encoded data removed]",
      "text/plain": [
       "plot without title"
      ]
     },
     "metadata": {},
     "output_type": "display_data"
    }
   ],
   "source": [
    "misc <- tibble(`Kind of artist` = c('X and the Y', 'Football and rugby', 'Single word name', 'Name contains a number'),\n",
    "              Count = c(length(xAndTheYartists), length(footballArtists), length(oneWordArtists), length(numberArtists)))\n",
    "\n",
    "# if the bars are too short to contain the text of the label (in white), put the label above the bar in black\n",
    "barThreshold <- 100\n",
    "misc <- mutate(misc,\n",
    "       labelPosition = ifelse(Count > barThreshold, 2, -1),\n",
    "       labelTextColour = ifelse(Count > barThreshold, \"white\", \"black\"))\n",
    "\n",
    "# without scale_colour_identity, ggplot interprets the colour name as an arbitrary categorical variable and picks\n",
    "# its own colour for each value, rather than interpreting the value as a colour verbatim.\n",
    "ggplot(data=misc, aes(x=`Kind of artist`, y=Count)) +\n",
    "    geom_bar(stat = \"identity\") +\n",
    "    geom_text(aes(label=Count, vjust=labelPosition, colour=labelTextColour)) +\n",
    "    scale_colour_identity()\n"
   ]
  },
  {
   "cell_type": "code",
   "execution_count": 165,
   "metadata": {},
   "outputs": [
    {
     "data": {},
     "metadata": {},
     "output_type": "display_data"
    },
    {
     "data": {
      "image/png": "[encoded data removed]",
      "text/plain": [
       "plot without title"
      ]
     },
     "metadata": {},
     "output_type": "display_data"
    }
   ],
   "source": [
    "collaboration <- tibble(`Kind of artist` = c('Only collaborates', 'Sometimes collaborates', 'Never collaborates'),\n",
    "                        Count = c(length(artistsWhoOnlyCollaborate), length(artistsWhoSometimesCollaborateAndSometimesDont),\n",
    "                         length(artistsWhoNeverCollaborate)))\n",
    "\n",
    "ggplot(collaboration, aes(`Kind of artist`, Count)) +\n",
    "    geom_bar(stat = \"identity\") +\n",
    "    geom_text(aes(label=Count), position=position_dodge(width=0.9), vjust=2, colour=\"white\")"
   ]
  }
 ],
 "metadata": {
  "kernelspec": {
   "display_name": "R",
   "language": "R",
   "name": "ir"
  },
  "language_info": {
   "codemirror_mode": "r",
   "file_extension": ".r",
   "mimetype": "text/x-r-source",
   "name": "R",
   "pygments_lexer": "r",
   "version": "3.4.3"
  }
 },
 "nbformat": 4,
 "nbformat_minor": 4
}
